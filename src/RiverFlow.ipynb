{
 "cells": [
  {
   "cell_type": "markdown",
   "id": "45a499b6-f0e0-478f-af69-12729e95a34a",
   "metadata": {},
   "source": [
    "## Problem Statement\n",
    "\n",
    "Given Temperature and Precipitation at 9 stations and river flow at one location, predict river flow one week later.\n",
    "\n",
    "*Predictors/Features*:  Temperature (${^o}C$) and Precipitation (mm) at 9 stations; river flow ($m^{3}s^{-1}$) at given location.\n",
    "\n",
    "*Predictand/Target*: River Flow ($m^{3}s^{-1}$) at the same location one week later"
   ]
  },
  {
   "cell_type": "markdown",
   "id": "96330846-26d0-4ace-91d4-28af9fe7e2a1",
   "metadata": {},
   "source": [
    "## Science Background\n",
    "\n",
    "*Why would we expect to be able to predict river flow with precipitation, temperature, and the previous river flow? How are these variables related?*\n",
    "\n",
    "\n",
    "* In the absence of new water input, the river flow will decrease slowly over time. \n",
    "* River flow has high autocorrelation over some timescale (??)\n",
    "* Increased precipitation -> increased river flow\n",
    "* River flow is an \"integrated\" response in time to precipation\n",
    "* In regions with snow, temperature above freezing leads to melting snow and increased river flow during the melt season\n",
    "* In the non-melt season, higher temperatures could leader to more evaportation and result in less river flow, but this is likely a small impact \n",
    "* All datasets could have a climate change related trend or changes in variability over time\n",
    "* All likely have a seasonal cycle"
   ]
  },
  {
   "cell_type": "code",
   "execution_count": 1,
   "id": "63ef3bd9-ebd5-457d-9484-fd68d032ba05",
   "metadata": {},
   "outputs": [
    {
     "ename": "ModuleNotFoundError",
     "evalue": "No module named 'keras'",
     "output_type": "error",
     "traceback": [
      "\u001b[0;31m---------------------------------------------------------------------------\u001b[0m",
      "\u001b[0;31mModuleNotFoundError\u001b[0m                       Traceback (most recent call last)",
      "\u001b[0;32m<ipython-input-1-bc8dd394b19c>\u001b[0m in \u001b[0;36m<module>\u001b[0;34m\u001b[0m\n\u001b[1;32m      9\u001b[0m \u001b[0;32mfrom\u001b[0m \u001b[0msklearn\u001b[0m \u001b[0;32mimport\u001b[0m \u001b[0mpreprocessing\u001b[0m\u001b[0;34m\u001b[0m\u001b[0;34m\u001b[0m\u001b[0m\n\u001b[1;32m     10\u001b[0m \u001b[0;34m\u001b[0m\u001b[0m\n\u001b[0;32m---> 11\u001b[0;31m \u001b[0;32mfrom\u001b[0m \u001b[0mkeras\u001b[0m\u001b[0;34m.\u001b[0m\u001b[0mlayers\u001b[0m \u001b[0;32mimport\u001b[0m \u001b[0mInput\u001b[0m\u001b[0;34m,\u001b[0m \u001b[0mDense\u001b[0m\u001b[0;34m,\u001b[0m \u001b[0mActivation\u001b[0m\u001b[0;34m\u001b[0m\u001b[0;34m\u001b[0m\u001b[0m\n\u001b[0m\u001b[1;32m     12\u001b[0m \u001b[0;32mfrom\u001b[0m \u001b[0mkeras\u001b[0m\u001b[0;34m.\u001b[0m\u001b[0mmodels\u001b[0m \u001b[0;32mimport\u001b[0m \u001b[0mSequential\u001b[0m\u001b[0;34m\u001b[0m\u001b[0;34m\u001b[0m\u001b[0m\n\u001b[1;32m     13\u001b[0m \u001b[0;32mfrom\u001b[0m \u001b[0mkeras\u001b[0m\u001b[0;34m.\u001b[0m\u001b[0mutils\u001b[0m \u001b[0;32mimport\u001b[0m \u001b[0mto_categorical\u001b[0m\u001b[0;34m\u001b[0m\u001b[0;34m\u001b[0m\u001b[0m\n",
      "\u001b[0;31mModuleNotFoundError\u001b[0m: No module named 'keras'"
     ]
    }
   ],
   "source": [
    "import numpy as np\n",
    "import pandas as pd\n",
    "import xarray as xr\n",
    "import matplotlib.pyplot as plt\n",
    "import seaborn as sns\n",
    "\n",
    "from sklearn.model_selection import train_test_split\n",
    "from sklearn.linear_model import LassoCV, RidgeCV\n",
    "from sklearn import preprocessing\n",
    "\n",
    "from keras.layers import Input, Dense, Activation\n",
    "from keras.models import Sequential\n",
    "from keras.utils import to_categorical\n",
    "from keras.callbacks import LambdaCallback\n",
    "from keras import regularizers\n",
    "from keras import initializers\n",
    "from keras import optimizers\n",
    "from keras.utils.vis_utils import plot_model"
   ]
  },
  {
   "cell_type": "markdown",
   "id": "23b3c846-d1d8-4a08-9a6b-773d5d82d726",
   "metadata": {},
   "source": [
    "### My Functions -- move to utils"
   ]
  },
  {
   "cell_type": "code",
   "execution_count": null,
   "id": "7e4784d2-aee4-4868-a614-86b46e4f4d82",
   "metadata": {},
   "outputs": [],
   "source": [
    "def lasso(X,Y):\n",
    "\n",
    "    # X_train[time,features]\n",
    "    # Y_train[time,targets]\n",
    "\n",
    "    regr = LassoCV(cv=5,max_iter=5000).fit(X,Y)\n",
    "    Y_pred = regr.predict(X)\n",
    "    \n",
    "    r_squared=regr.score(X,Y)\n",
    "    \n",
    "    return regr,regr.coef_,r_squared,Y_pred"
   ]
  },
  {
   "cell_type": "code",
   "execution_count": null,
   "id": "87d28f02-febc-477f-b15d-aa0b2afa3dbd",
   "metadata": {},
   "outputs": [],
   "source": [
    "def ridge(X,Y):\n",
    "\n",
    "    # X_train[time,features]\n",
    "    # Y_train[time,targets]\n",
    "\n",
    "    regr = RidgeCV(cv=5).fit(X,Y)\n",
    "    Y_pred = regr.predict(X)\n",
    "    \n",
    "    r_squared=regr.score(X,Y)\n",
    "    \n",
    "    return regr,regr.coef_,r_squared,Y_pred"
   ]
  },
  {
   "cell_type": "code",
   "execution_count": null,
   "id": "e46f68b2-43ee-420b-9eeb-88174912f246",
   "metadata": {},
   "outputs": [],
   "source": [
    "def tomsensomodel_regression(X,Y):\n",
    "    \n",
    "    model = Sequential()\n",
    "\n",
    "    model.add(Dense(8, input_dim=X.shape[1],activation='tanh',\n",
    "                kernel_initializer='he_normal',\n",
    "                kernel_regularizer=regularizers.l1(0.02),\n",
    "                bias_initializer='he_normal'))\n",
    "\n",
    "    model.add(Dense(8, activation='tanh',\n",
    "                kernel_initializer='he_normal',\n",
    "                bias_initializer='he_normal'))\n",
    "\n",
    "    model.add(Dense(2,name='output'))\n",
    "\n",
    "    model.compile(optimizer=optimizers.Adam(lr=0.001), \n",
    "                  loss ='mean_squared_error', \n",
    "                  metrics = ['mse'])\n",
    "        \n",
    "    model.fit(X,Y,epochs=250, batch_size=50,verbose=0)\n",
    "    \n",
    "    return(model)"
   ]
  },
  {
   "cell_type": "code",
   "execution_count": null,
   "id": "38abe0d4-4789-4df9-9d6e-ba650287b91e",
   "metadata": {},
   "outputs": [],
   "source": [
    "data_path='../data/'\n",
    "file='climateai_coding_challenge_data_v2.nc'"
   ]
  },
  {
   "cell_type": "markdown",
   "id": "683b9dda-4243-4a90-ad1f-1af398e70bff",
   "metadata": {},
   "source": [
    "## Read Data"
   ]
  },
  {
   "cell_type": "code",
   "execution_count": null,
   "id": "a758794e-2697-4548-946a-8112e9b5f02f",
   "metadata": {},
   "outputs": [],
   "source": [
    "ds=xr.open_dataset(data_path+file)"
   ]
  },
  {
   "cell_type": "markdown",
   "id": "201fa9f2-8f1c-4392-ba81-11f6e5360f46",
   "metadata": {},
   "source": [
    "### Quick Check that Data looks reasonable"
   ]
  },
  {
   "cell_type": "code",
   "execution_count": null,
   "id": "483e5a71-de09-4fa2-ad94-7d3ae82a5777",
   "metadata": {},
   "outputs": [],
   "source": [
    "ds"
   ]
  },
  {
   "cell_type": "markdown",
   "id": "c16436eb-ddf2-48d7-9d5b-76ff233f5c0b",
   "metadata": {},
   "source": [
    "### Extract Dates to Match for features and target"
   ]
  },
  {
   "cell_type": "code",
   "execution_count": null,
   "id": "fe6fd245-0aac-4c43-b21c-329dfe2083eb",
   "metadata": {},
   "outputs": [],
   "source": [
    "ds_trunc_precip=ds['precipitation'].sel(time_weather=slice('1957-12-28','2015-12-24'))\n",
    "ds_trunc_temp=ds['temperature'].sel(time_weather=slice('1957-12-28','2015-12-24'))\n",
    "ds_trunc_flow=ds['flow'].sel(time_flow=slice('1958-01-04','2015-12-31'))\n",
    "\n",
    "print(ds_trunc_precip)\n",
    "print(ds_trunc_temp)\n",
    "print(ds_trunc_flow)"
   ]
  },
  {
   "cell_type": "code",
   "execution_count": null,
   "id": "4e568cfa-42e2-40bc-b92f-9a6ae4cea7c6",
   "metadata": {},
   "outputs": [],
   "source": [
    "plt.plot(ds_trunc_flow)"
   ]
  },
  {
   "cell_type": "code",
   "execution_count": null,
   "id": "8b11bb7f-9f98-4e88-b50c-ec7b248bc96f",
   "metadata": {},
   "outputs": [],
   "source": [
    "ncols=3\n",
    "nrows=3\n",
    "\n",
    "fig = plt.figure()\n",
    "for i,station in enumerate(ds['station_number']):\n",
    "    plt.subplot(nrows,ncols,i+1)\n",
    "    plt.plot(ds_trunc_precip.sel(station_number=station))\n",
    "    \n",
    "fig = plt.figure()\n",
    "for i,station in enumerate(ds['station_number']):\n",
    "    plt.subplot(nrows,ncols,i+1)\n",
    "    plt.plot(ds_trunc_temp.sel(station_number=station))"
   ]
  },
  {
   "cell_type": "markdown",
   "id": "ab8f7e5d-a965-463a-bd20-03eba2f6a150",
   "metadata": {},
   "source": [
    "## Define Features and Targets \n",
    "Features (`X`): precipitation, temperature, flow \n",
    "Target (`Y`): flow one week later"
   ]
  },
  {
   "cell_type": "markdown",
   "id": "9d0ca91d-b1d6-4a3a-9f64-5c25775f49f2",
   "metadata": {},
   "source": [
    "Y_dates=pd.date_range(start='1958-01-04',end='2015-12-31',freq='D')\n",
    "Y_dates"
   ]
  },
  {
   "cell_type": "markdown",
   "id": "62da0337-48cb-4cf7-96fb-c30cf40ec007",
   "metadata": {},
   "source": [
    "print(Y_dates-pd.Timedelta(days=7))"
   ]
  },
  {
   "cell_type": "markdown",
   "id": "75f1c8ee-b633-42ed-b491-ac4958ead5db",
   "metadata": {},
   "source": [
    "X_dates=pd.date_range(start='1957-12-28',end='2015-12-24',freq='D')\n",
    "X_dates"
   ]
  },
  {
   "cell_type": "markdown",
   "id": "9f4a3ea3-2cd7-488f-92a9-04e270a99838",
   "metadata": {},
   "source": [
    "### Put Features and target into`numpy` arrays"
   ]
  },
  {
   "cell_type": "code",
   "execution_count": null,
   "id": "ceb9a8b0-5b28-4264-9019-5a5a434ee2b2",
   "metadata": {},
   "outputs": [],
   "source": [
    "X=np.concatenate((ds_trunc_precip,ds_trunc_temp),axis=1)\n",
    "print(ds_trunc_precip['time_weather'])\n",
    "Y=ds_trunc_flow.where(ds_trunc_flow['time_flow'].isin(ds_trunc_precip['time_weather']+pd.Timedelta(days=7)), drop=True).values"
   ]
  },
  {
   "cell_type": "code",
   "execution_count": null,
   "id": "02ad5d3b-2d8b-499b-bda5-1120056bd6ba",
   "metadata": {},
   "outputs": [],
   "source": [
    "print('Check Features and Target Dimensions')\n",
    "print('Features (X): ',X.shape)\n",
    "print('Target (Y): ',Y.shape)\n",
    "\n",
    "nsamples=X.shape[0]\n",
    "nfeatures=X.shape[1]\n",
    "\n",
    "print(\"Samples: \",nsamples)\n",
    "print(\"features: \", nfeatures)"
   ]
  },
  {
   "cell_type": "markdown",
   "id": "1c59711a-1280-4788-bc1a-4b6b6a8845c7",
   "metadata": {},
   "source": [
    "### Split Data into Training and Test"
   ]
  },
  {
   "cell_type": "code",
   "execution_count": null,
   "id": "5df194d8-f98b-4541-a2f0-15ba2bf4d13d",
   "metadata": {},
   "outputs": [],
   "source": [
    "X_train, X_test, Y_train, Y_test = train_test_split(X,Y,train_size=0.8)\n",
    "\n",
    "ntrain=X_train.shape[0]\n",
    "ntest=X_test.shape[0]\n",
    "\n",
    "print('Training Size: ',ntrain)\n",
    "print('Testing Size: ',ntest)"
   ]
  },
  {
   "cell_type": "markdown",
   "id": "8462503e-9e49-4baf-9e30-6c363114a16b",
   "metadata": {},
   "source": [
    "### Take a look at training data & Relationships between variables"
   ]
  },
  {
   "cell_type": "markdown",
   "id": "10b46971-83b3-4b91-814d-1a9cef782377",
   "metadata": {},
   "source": [
    "#### Trend?"
   ]
  },
  {
   "cell_type": "code",
   "execution_count": null,
   "id": "6766d9e3-0862-4871-b5ba-c75d538dd73a",
   "metadata": {},
   "outputs": [],
   "source": [
    "plt.figure(figsize=(8.5,11))\n",
    "y=np.arange(ntrain)\n",
    "\n",
    "for i in range(nfeatures):\n",
    "\n",
    "    plt.subplot(6,3,i+1)\n",
    "\n",
    "    z = np.polyfit(y,X_train[:,i],1)\n",
    "    p = np.poly1d(z)\n",
    "    \n",
    "    plt.plot(y,X_train[:,i])\n",
    "    plt.plot(p(y),\"r--\")\n",
    "    \n",
    "    print(\"Check Stats: \", \"Station: \",i, \"Mean: \", X_train[:,i].mean(axis=0),\"Var: \", X_train[:,i].var(axis=0))\n",
    "    "
   ]
  },
  {
   "cell_type": "markdown",
   "id": "aa54c66f-48a4-414d-8d6c-393b3beef526",
   "metadata": {},
   "source": [
    "#### How correlated are all the features and target with each other?"
   ]
  },
  {
   "cell_type": "code",
   "execution_count": null,
   "id": "f5222b94-0811-4a64-bcc6-734659f4efd9",
   "metadata": {},
   "outputs": [],
   "source": [
    "tmp_data=np.hstack((X_train,np.expand_dims(Y_train, axis=1)))\n",
    "d = pd.DataFrame(data=tmp_data)\n",
    "corr=d.corr()\n",
    "mask = np.zeros_like(corr, dtype=np.bool)\n",
    "mask[np.triu_indices_from(mask)] = True\n",
    "\n",
    "plt.figure(figsize=(8.5,11))\n",
    "sns.set(font_scale=1)\n",
    "ax=sns.heatmap(corr,square=True,linewidths=0.5,fmt=\" .2f\", \\\n",
    "               annot=True,mask=mask,cmap='seismic', \\\n",
    "               vmin=-1,vmax=1,cbar=False,annot_kws={\"size\": 8})"
   ]
  },
  {
   "cell_type": "markdown",
   "id": "ecfe3b9d-d4a2-41ac-95fb-5127255fae36",
   "metadata": {},
   "source": [
    "### Seasonal Cycle & Anomalies"
   ]
  },
  {
   "cell_type": "markdown",
   "id": "eda18e1d-9e6e-4536-be98-eda4d78b3bb6",
   "metadata": {},
   "source": [
    "# Create an `xarray.Dataset` of temperature and precip training data"
   ]
  },
  {
   "cell_type": "code",
   "execution_count": null,
   "id": "bb8e4326-2dc0-48ea-9ac0-037345243bb5",
   "metadata": {},
   "outputs": [],
   "source": [
    "ds_tmp1=xr.DataArray(X_train[:,0:9],\n",
    "                    coords={'time':ds_trunc_precip['time_weather'][0:ntrain].values,\n",
    "                            'stations': ds_trunc_precip['station_number'][0:9].values},\n",
    "                    dims=['time','stations']).to_dataset(name='precipitation')\n",
    "ds_tmp2=xr.DataArray(X_train[:,9::],\n",
    "                    coords={'time':ds_trunc_precip['time_weather'][0:ntrain].values,\n",
    "                            'stations': ds_trunc_precip['station_number'][0:9].values},\n",
    "                    dims=['time','stations']).to_dataset(name='temperature')\n",
    "ds_tmp=xr.merge([ds_tmp1,ds_tmp2])\n",
    "ds_tmp"
   ]
  },
  {
   "cell_type": "markdown",
   "id": "12473345-1802-4249-9a2d-bcd28ee0f5fc",
   "metadata": {},
   "source": [
    "### Calculate the *noisy* climatology"
   ]
  },
  {
   "cell_type": "code",
   "execution_count": null,
   "id": "06c49cca-2d97-4f05-a830-e96f47787bb4",
   "metadata": {},
   "outputs": [],
   "source": [
    "climo=ds_tmp.groupby('time.dayofyear').mean(dim='time')\n",
    "climo"
   ]
  },
  {
   "cell_type": "markdown",
   "id": "ddfe4332-f6c7-4ba2-8703-2b7b0724c994",
   "metadata": {},
   "source": [
    "### Smooth to get the annual cycle"
   ]
  },
  {
   "cell_type": "markdown",
   "id": "6858a054-8db6-4ea2-88d5-d68b5b28cba5",
   "metadata": {},
   "source": [
    "### Plot the Climatology for the temperature and precip stations"
   ]
  },
  {
   "cell_type": "code",
   "execution_count": null,
   "id": "1fc6c12d-e619-422e-97ac-68b3057ad7a7",
   "metadata": {},
   "outputs": [],
   "source": [
    "for v in ['precipitation','temperature']:\n",
    "    plt.figure(figsize=(8.5,11))\n",
    "    for i in range(9):\n",
    "\n",
    "        plt.subplot(3,3,i+1)\n",
    "        plt.plot(climo['dayofyear'],climo[v][:,i])\n",
    "        plt.title(v)\n"
   ]
  },
  {
   "cell_type": "markdown",
   "id": "4424d08d-78ca-4955-bae8-1dd2996bdfc9",
   "metadata": {},
   "source": [
    "### Calculate Anomalies -- may use them for model"
   ]
  },
  {
   "cell_type": "code",
   "execution_count": null,
   "id": "78f8b4af-5391-4cc0-8fa5-5b3a19461fe9",
   "metadata": {},
   "outputs": [],
   "source": []
  },
  {
   "cell_type": "markdown",
   "id": "9c170f93-8b9c-4413-a908-a43939cac910",
   "metadata": {},
   "source": [
    "### Standardize the Data"
   ]
  },
  {
   "cell_type": "code",
   "execution_count": null,
   "id": "53ecfd6a-9da1-4921-b700-8d6b12b01b5f",
   "metadata": {},
   "outputs": [],
   "source": [
    "scaler_p=preprocessing.StandardScaler().fit(X_train[:,0:9])\n",
    "scaler_t=preprocessing.StandardScaler().fit(X_train[:,9::])\n",
    "X_scaled_p=scaler_p.transform(X_train[:,0:9])\n",
    "X_scaled_t=scaler_t.transform(X_train[:,9::])\n",
    "X_scaled=np.concatenate((X_scaled_p,X_scaled_t),axis=1)\n",
    "scaler_y=preprocessing.StandardScaler().fit(Y_train.reshape(-1, 1))\n",
    "Y_scaled=scaler_y.transform(Y_train.reshape(-1, 1))"
   ]
  },
  {
   "cell_type": "markdown",
   "id": "6e7f29f7-33f6-41cc-9f1a-00748177a203",
   "metadata": {},
   "source": [
    "### Linear Regression Models: LASSO"
   ]
  },
  {
   "cell_type": "code",
   "execution_count": null,
   "id": "9b60dd23-bc18-4570-9c6d-0b3ab52bc88e",
   "metadata": {},
   "outputs": [],
   "source": [
    "regr,coeffs,rsq_train,Ypred=lasso(X_scaled,Y_scaled)\n",
    "print('R^2 Train LASSO : ', rsq_train)\n",
    "print(coeffs)"
   ]
  },
  {
   "cell_type": "code",
   "execution_count": null,
   "id": "5a640a56-3efc-46fd-a08f-0b563d0223c1",
   "metadata": {},
   "outputs": [],
   "source": [
    "regr,coeffs,rsq_train,Ypred=ridge(X_scaled,Y_scaled)\n",
    "print('R^2 Train Ridge : ', rsq_train)\n",
    "print(coeffs)"
   ]
  },
  {
   "cell_type": "markdown",
   "id": "834c90eb-957b-4f10-9c87-f434b3c44b46",
   "metadata": {},
   "source": [
    "### Simple ANN based on Toms et al."
   ]
  },
  {
   "cell_type": "code",
   "execution_count": null,
   "id": "8770d1e2-8f2b-431e-b891-012736549704",
   "metadata": {},
   "outputs": [],
   "source": [
    "tomsensomodel_regression(X,Y)"
   ]
  },
  {
   "cell_type": "code",
   "execution_count": null,
   "id": "15d1a347-9715-4254-b98f-da22cd2045bb",
   "metadata": {},
   "outputs": [],
   "source": [
    "nntoms=tomsensomodel_regression(X_train,Y_train)\n",
    "#print('R^2 Train NN: ',rsq_train)\n",
    "#print('R^2 Test NN: ',rsq_test)"
   ]
  },
  {
   "cell_type": "code",
   "execution_count": null,
   "id": "8f46a69b-41a1-41ec-8f87-efdc0ebdcebc",
   "metadata": {},
   "outputs": [],
   "source": []
  }
 ],
 "metadata": {
  "kernelspec": {
   "display_name": "Python (climateai)",
   "language": "python",
   "name": "climateai"
  },
  "language_info": {
   "codemirror_mode": {
    "name": "ipython",
    "version": 3
   },
   "file_extension": ".py",
   "mimetype": "text/x-python",
   "name": "python",
   "nbconvert_exporter": "python",
   "pygments_lexer": "ipython3",
   "version": "3.7.3"
  }
 },
 "nbformat": 4,
 "nbformat_minor": 5
}
